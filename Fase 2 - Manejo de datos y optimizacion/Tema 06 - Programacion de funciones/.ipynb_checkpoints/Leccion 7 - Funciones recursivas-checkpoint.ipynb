{
 "cells": [
  {
   "cell_type": "code",
   "execution_count": 3,
   "metadata": {},
   "outputs": [],
   "source": [
    "def cuenta_atras(num):\n",
    "    num -= 1\n",
    "    if num > 0:\n",
    "        print(num)\n",
    "        cuenta_atras(num)\n",
    "    else:\n",
    "        print(\"Booooom!\")\n",
    "    print(\"Fin\",num)"
   ]
  },
  {
   "cell_type": "code",
   "execution_count": 4,
   "metadata": {},
   "outputs": [
    {
     "name": "stdout",
     "output_type": "stream",
     "text": [
      "5\n",
      "4\n",
      "3\n",
      "2\n",
      "1\n",
      "Booooom!\n",
      "Fin 0\n",
      "Fin 1\n",
      "Fin 2\n",
      "Fin 3\n",
      "Fin 4\n",
      "Fin 5\n"
     ]
    }
   ],
   "source": [
    "cuenta_atras(6)"
   ]
  },
  {
   "cell_type": "code",
   "execution_count": 11,
   "metadata": {},
   "outputs": [
    {
     "name": "stdout",
     "output_type": "stream",
     "text": [
      "Valor inicio = 5\n",
      "Valor inicio = 4\n",
      "Valor inicio = 3\n",
      "Valor inicio = 2\n",
      "Valor inicio = 1\n",
      "Valor fin = 1\n",
      "Valor fin = 2\n",
      "Valor fin = 6\n",
      "Valor fin = 24\n",
      "Valor fin = 120\n"
     ]
    },
    {
     "data": {
      "text/plain": [
       "120"
      ]
     },
     "execution_count": 11,
     "metadata": {},
     "output_type": "execute_result"
    }
   ],
   "source": [
    "def factorial(num):\n",
    "    print(\"Valor inicio =\",num)\n",
    "    if num > 1:\n",
    "        num = num * factorial(num -1)\n",
    "    print(\"Valor fin =\",num)\n",
    "    return num\n",
    "\n",
    "factorial(5)"
   ]
  },
  {
   "cell_type": "code",
   "execution_count": 31,
   "metadata": {},
   "outputs": [
    {
     "name": "stdout",
     "output_type": "stream",
     "text": [
      "Valor inicio = 5\n",
      "Valor inicio = 4\n",
      "Valor inicio = 3\n",
      "Valor inicio = 2\n",
      "Valor inicio = 1\n",
      "Factorial de ... = 2\n",
      "Factorial de ... = 6\n",
      "Factorial de ... = 24\n",
      "Factorial de ... = 120\n"
     ]
    },
    {
     "data": {
      "text/plain": [
       "120"
      ]
     },
     "execution_count": 31,
     "metadata": {},
     "output_type": "execute_result"
    }
   ],
   "source": [
    "def factorial(num):\n",
    "    print(\"Valor inicio =\",num)\n",
    "    if num > 1:\n",
    "        num = num * factorial(num -1)\n",
    "        print(\"Factorial de {0} = {1}\".format(\"...\", num))\n",
    "    \n",
    "    return num\n",
    "\n",
    "factorial(5)"
   ]
  }
 ],
 "metadata": {
  "kernelspec": {
   "display_name": "Python 3",
   "language": "python",
   "name": "python3"
  },
  "language_info": {
   "codemirror_mode": {
    "name": "ipython",
    "version": 3
   },
   "file_extension": ".py",
   "mimetype": "text/x-python",
   "name": "python",
   "nbconvert_exporter": "python",
   "pygments_lexer": "ipython3",
   "version": "3.7.4"
  }
 },
 "nbformat": 4,
 "nbformat_minor": 1
}
