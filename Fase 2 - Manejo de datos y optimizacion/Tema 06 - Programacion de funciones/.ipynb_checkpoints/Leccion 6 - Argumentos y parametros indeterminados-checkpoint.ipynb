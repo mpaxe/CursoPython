{
 "cells": [
  {
   "cell_type": "code",
   "execution_count": 1,
   "metadata": {},
   "outputs": [
    {
     "name": "stdout",
     "output_type": "stream",
     "text": [
      "(5, 'tu', [1, 2, 3])\n"
     ]
    }
   ],
   "source": [
    "def indeter_posicion(*args):\n",
    "    print(args)\n",
    "    \n",
    "indeter_posicion(5,\"tu\",[1,2,3])"
   ]
  },
  {
   "cell_type": "code",
   "execution_count": 3,
   "metadata": {},
   "outputs": [
    {
     "name": "stdout",
     "output_type": "stream",
     "text": [
      "{'n': 5, 'c': 'tu', 'l': [1, 2, 3]}\n"
     ]
    }
   ],
   "source": [
    "def indeter_nombre(**kwargs):\n",
    "    print(kwargs)\n",
    "    \n",
    "indeter_nombre(n=5,c=\"tu\",l=[1,2,3])"
   ]
  },
  {
   "cell_type": "code",
   "execution_count": 5,
   "metadata": {},
   "outputs": [
    {
     "name": "stdout",
     "output_type": "stream",
     "text": [
      "n 5\n",
      "c tu\n",
      "l [1, 2, 3]\n"
     ]
    }
   ],
   "source": [
    "def indeter_nombre(**kwargs):\n",
    "    for kwarg in kwargs:\n",
    "        print(kwarg,kwargs[kwarg])\n",
    "    \n",
    "indeter_nombre(n=5,c=\"tu\",l=[1,2,3])"
   ]
  },
  {
   "cell_type": "code",
   "execution_count": 6,
   "metadata": {},
   "outputs": [
    {
     "name": "stdout",
     "output_type": "stream",
     "text": [
      "La suma es 140\n",
      "nombre   Alvaro\n",
      "edad   20\n"
     ]
    }
   ],
   "source": [
    "def super_funcion(*args,**kwargs):\n",
    "    t = 0\n",
    "    for arg in args:\n",
    "        t+=arg\n",
    "    print(\"La suma es\",t)\n",
    "    for kwarg in kwargs:\n",
    "        print(kwarg,\" \",kwargs[kwarg])\n",
    "\n",
    "super_funcion(10,3,4,56,67,nombre=\"Alvaro\",edad=20)"
   ]
  },
  {
   "cell_type": "code",
   "execution_count": 7,
   "metadata": {},
   "outputs": [
    {
     "name": "stdout",
     "output_type": "stream",
     "text": [
      "La suma es 140\n",
      "nombre   Alvaro\n",
      "edad   20\n"
     ]
    }
   ],
   "source": [
    "super_funcion(10,3,4,56,67,nombre=\"Alvaro\",edad=20)"
   ]
  }
 ],
 "metadata": {
  "kernelspec": {
   "display_name": "Python 3",
   "language": "python",
   "name": "python3"
  },
  "language_info": {
   "codemirror_mode": {
    "name": "ipython",
    "version": 3
   },
   "file_extension": ".py",
   "mimetype": "text/x-python",
   "name": "python",
   "nbconvert_exporter": "python",
   "pygments_lexer": "ipython3",
   "version": "3.7.4"
  }
 },
 "nbformat": 4,
 "nbformat_minor": 1
}
