{
 "cells": [
  {
   "cell_type": "code",
   "execution_count": 1,
   "metadata": {},
   "outputs": [],
   "source": [
    "class Galleta:\n",
    "    pass\n",
    "\n",
    "g = Galleta()"
   ]
  },
  {
   "cell_type": "code",
   "execution_count": 2,
   "metadata": {},
   "outputs": [],
   "source": [
    "g.sabor = \"Dulce\""
   ]
  },
  {
   "cell_type": "code",
   "execution_count": 3,
   "metadata": {},
   "outputs": [],
   "source": [
    "g.color = \"Negro\""
   ]
  },
  {
   "cell_type": "code",
   "execution_count": 4,
   "metadata": {},
   "outputs": [
    {
     "name": "stdout",
     "output_type": "stream",
     "text": [
      "El color de la galleta es Negro\n"
     ]
    }
   ],
   "source": [
    "print(\"El color de la galleta es\",g.color)"
   ]
  },
  {
   "cell_type": "code",
   "execution_count": 5,
   "metadata": {},
   "outputs": [
    {
     "data": {
      "text/plain": [
       "False"
      ]
     },
     "execution_count": 5,
     "metadata": {},
     "output_type": "execute_result"
    }
   ],
   "source": [
    "class Galleta:\n",
    "    choco = False\n",
    "\n",
    "g = Galleta()\n",
    "g.choco"
   ]
  },
  {
   "cell_type": "code",
   "execution_count": 6,
   "metadata": {},
   "outputs": [
    {
     "data": {
      "text/plain": [
       "True"
      ]
     },
     "execution_count": 6,
     "metadata": {},
     "output_type": "execute_result"
    }
   ],
   "source": [
    "g.choco = True\n",
    "g.choco"
   ]
  },
  {
   "cell_type": "code",
   "execution_count": 7,
   "metadata": {},
   "outputs": [
    {
     "name": "stdout",
     "output_type": "stream",
     "text": [
      "Galleta creada\n"
     ]
    }
   ],
   "source": [
    "class Galleta():\n",
    "    choco = False\n",
    "    def __init__(self):\n",
    "        print(\"Galleta creada\")\n",
    "g = Galleta()"
   ]
  },
  {
   "cell_type": "code",
   "execution_count": 9,
   "metadata": {},
   "outputs": [
    {
     "name": "stdout",
     "output_type": "stream",
     "text": [
      "Galleta creada\n",
      "No tengo choco\n",
      "Tengo choco\n"
     ]
    }
   ],
   "source": [
    "class Galleta():\n",
    "    choco = False\n",
    "    \n",
    "    def __init__(self):\n",
    "        print(\"Galleta creada\")\n",
    "    \n",
    "    def chocolatear(self):\n",
    "        self.choco = True\n",
    "        \n",
    "    def tiene_choco(self):\n",
    "        if (self.choco):\n",
    "            print(\"Tengo choco\")\n",
    "        else:\n",
    "            print(\"No tengo choco\")\n",
    "            \n",
    "g = Galleta()\n",
    "g.tiene_choco()\n",
    "g.chocolatear()\n",
    "g.tiene_choco()"
   ]
  },
  {
   "cell_type": "code",
   "execution_count": 16,
   "metadata": {},
   "outputs": [],
   "source": [
    "class Galleta():\n",
    "    choco = False\n",
    "    \n",
    "    def __init__(self, sabor, forma):\n",
    "        self.sabor = sabor\n",
    "        self.forma = forma\n",
    "        print(\"Galleta de {} y {} creada\".format(sabor, forma))\n",
    "    \n",
    "    def chocolatear(self):\n",
    "        self.choco = True\n",
    "        \n",
    "    def tiene_choco(self):\n",
    "        if (self.choco):\n",
    "            print(\"Tengo choco\")\n",
    "        else:\n",
    "            print(\"No tengo choco\")\n",
    "            "
   ]
  },
  {
   "cell_type": "code",
   "execution_count": 17,
   "metadata": {},
   "outputs": [
    {
     "name": "stdout",
     "output_type": "stream",
     "text": [
      "Galleta de chocolate y redonda creada\n"
     ]
    }
   ],
   "source": [
    "g = Galleta(\"chocolate\",\"redonda\")"
   ]
  },
  {
   "cell_type": "code",
   "execution_count": 18,
   "metadata": {},
   "outputs": [
    {
     "ename": "TypeError",
     "evalue": "__init__() missing 2 required positional arguments: 'sabor' and 'forma'",
     "output_type": "error",
     "traceback": [
      "\u001b[0;31m---------------------------------------------------------------------------\u001b[0m",
      "\u001b[0;31mTypeError\u001b[0m                                 Traceback (most recent call last)",
      "\u001b[0;32m<ipython-input-18-eb174ad5b988>\u001b[0m in \u001b[0;36m<module>\u001b[0;34m\u001b[0m\n\u001b[0;32m----> 1\u001b[0;31m \u001b[0mg\u001b[0m \u001b[0;34m=\u001b[0m \u001b[0mGalleta\u001b[0m\u001b[0;34m(\u001b[0m\u001b[0;34m)\u001b[0m\u001b[0;34m\u001b[0m\u001b[0;34m\u001b[0m\u001b[0m\n\u001b[0m",
      "\u001b[0;31mTypeError\u001b[0m: __init__() missing 2 required positional arguments: 'sabor' and 'forma'"
     ]
    }
   ],
   "source": [
    "g = Galleta()"
   ]
  },
  {
   "cell_type": "code",
   "execution_count": 19,
   "metadata": {},
   "outputs": [],
   "source": [
    "class Galleta():\n",
    "    choco = False\n",
    "    \n",
    "    def __init__(self, sabor=None, forma=None):\n",
    "        self.sabor = sabor\n",
    "        self.forma = forma\n",
    "        if sabor is None and forma is None:\n",
    "            print(\"Galleta creada\")\n",
    "        else:\n",
    "            print(\"Galleta de {} y {} creada\".format(sabor, forma))\n",
    "    \n",
    "    def chocolatear(self):\n",
    "        self.choco = True\n",
    "        \n",
    "    def tiene_choco(self):\n",
    "        if (self.choco):\n",
    "            print(\"Tengo choco\")\n",
    "        else:\n",
    "            print(\"No tengo choco\")"
   ]
  },
  {
   "cell_type": "code",
   "execution_count": 20,
   "metadata": {},
   "outputs": [
    {
     "name": "stdout",
     "output_type": "stream",
     "text": [
      "Galleta de None y None creada\n"
     ]
    }
   ],
   "source": [
    "g = Galleta()"
   ]
  },
  {
   "cell_type": "code",
   "execution_count": null,
   "metadata": {},
   "outputs": [],
   "source": []
  }
 ],
 "metadata": {
  "kernelspec": {
   "display_name": "Python 3",
   "language": "python",
   "name": "python3"
  },
  "language_info": {
   "codemirror_mode": {
    "name": "ipython",
    "version": 3
   },
   "file_extension": ".py",
   "mimetype": "text/x-python",
   "name": "python",
   "nbconvert_exporter": "python",
   "pygments_lexer": "ipython3",
   "version": "3.7.4"
  }
 },
 "nbformat": 4,
 "nbformat_minor": 1
}
