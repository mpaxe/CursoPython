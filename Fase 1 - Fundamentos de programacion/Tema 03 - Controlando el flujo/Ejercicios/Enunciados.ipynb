{
 "cells": [
  {
   "cell_type": "markdown",
   "metadata": {},
   "source": [
    "# Tema 03: Control de flujo (Enunciados)\n",
    "*Nota: Estos ejercicios son optativos para hacer al final de la unidad y están pensados para apoyar tu aprendizaje*."
   ]
  },
  {
   "cell_type": "markdown",
   "metadata": {},
   "source": [
    "**1) Realiza un programa que lea dos números por teclado y permita elegir entre 3 opciones en un menú:** \n",
    "* Mostrar una suma de los dos números\n",
    "* Mostrar una resta de los dos números (el primero menos el segundo)\n",
    "* Mostrar una multiplicación de los dos números\n",
    "* En caso de no introducir una opción válida, el programa informará de que no es correcta."
   ]
  },
  {
   "cell_type": "code",
   "execution_count": 6,
   "metadata": {},
   "outputs": [
    {
     "name": "stdout",
     "output_type": "stream",
     "text": [
      "Introduce el primer número: 2\n",
      "Introduce el segundo número: 2\n",
      "Menu Inicial\n",
      "        1. Mostrar la suma.\n",
      "        2. Mostrar la resta.\n",
      "        3. Mostrar el producto.\n",
      "        4. Salir.\n",
      "Elija una opción: 1\n",
      "La suma es: 4\n",
      "Menu Inicial\n",
      "        1. Mostrar la suma.\n",
      "        2. Mostrar la resta.\n",
      "        3. Mostrar el producto.\n",
      "        4. Salir.\n",
      "Elija una opción: 2\n",
      "La resta es: 0\n",
      "Menu Inicial\n",
      "        1. Mostrar la suma.\n",
      "        2. Mostrar la resta.\n",
      "        3. Mostrar el producto.\n",
      "        4. Salir.\n",
      "Elija una opción: 3\n",
      "El producto es: 4\n",
      "Menu Inicial\n",
      "        1. Mostrar la suma.\n",
      "        2. Mostrar la resta.\n",
      "        3. Mostrar el producto.\n",
      "        4. Salir.\n",
      "Elija una opción: 4\n",
      "Salir del programa\n"
     ]
    }
   ],
   "source": [
    "# Completa el ejercicio aquí\n",
    "num_1 = int(input(\"Introduce el primer número: \"))\n",
    "num_2 = int(input(\"Introduce el segundo número: \"))\n",
    "while True:\n",
    "    print(\"\"\"Menu Inicial\n",
    "        1. Mostrar la suma.\n",
    "        2. Mostrar la resta.\n",
    "        3. Mostrar el producto.\n",
    "        4. Salir.\"\"\")\n",
    "    opcion = input(\"Elija una opción: \")\n",
    "    if(opcion == '1'):\n",
    "        print(\"La suma es:\",num_1 + num_2)\n",
    "    elif(opcion == '2'):\n",
    "        print(\"La resta es:\",num_1 - num_2)\n",
    "    elif(opcion == '3'):\n",
    "        print(\"El producto es:\",num_1 * num_2)\n",
    "    elif(opcion == '4'):\n",
    "        print(\"Salir del programa\")\n",
    "        break\n",
    "    else:\n",
    "        print(\"Opción desconocida\")"
   ]
  },
  {
   "cell_type": "markdown",
   "metadata": {},
   "source": [
    "**2) Realiza un programa que lea un número impar por teclado. Si el usuario no introduce un número impar, debe repetise el proceso hasta que lo introduzca correctamente.**"
   ]
  },
  {
   "cell_type": "code",
   "execution_count": 10,
   "metadata": {},
   "outputs": [
    {
     "name": "stdout",
     "output_type": "stream",
     "text": [
      "Introduce número impar: 2\n",
      "Número par, vuelva a intentarlo...\n",
      "Introduce número impar: 4\n",
      "Número par, vuelva a intentarlo...\n",
      "Introduce número impar: 1\n"
     ]
    }
   ],
   "source": [
    "# Completa el ejercicio aquí\n",
    "while int(input(\"Introduce número impar: \")) % 2 == 0:\n",
    "    print(\"Número par, vuelva a intentarlo...\")"
   ]
  },
  {
   "cell_type": "markdown",
   "metadata": {},
   "source": [
    "**3) Realiza un programa que sume todos los números enteros pares desde el 0 hasta el 100:**\n",
    "\n",
    "*Sugerencia: Puedes utilizar la funciones sum() y range() para hacerlo más fácil. El tercer parámetro en la función range(inicio, fin, salto) indica un salto de números, pruébalo.*"
   ]
  },
  {
   "cell_type": "code",
   "execution_count": 1,
   "metadata": {},
   "outputs": [
    {
     "name": "stdout",
     "output_type": "stream",
     "text": [
      "2550\n",
      "2550\n"
     ]
    }
   ],
   "source": [
    "# Completa el ejercicio aquí\n",
    "suma = sum(range(0,101,2))\n",
    "print(suma)\n",
    "\n",
    "# Otra forma\n",
    "num = 0\n",
    "suma = 0\n",
    "\n",
    "while num <= 100:\n",
    "    suma += num\n",
    "    num += 2\n",
    "print(suma)"
   ]
  },
  {
   "cell_type": "markdown",
   "metadata": {},
   "source": [
    "**4) Realiza un programa que pida al usuario cuantos números quiere introducir. Luego lee todos los números y realiza una media aritmética:**\n"
   ]
  },
  {
   "cell_type": "code",
   "execution_count": 28,
   "metadata": {},
   "outputs": [
    {
     "name": "stdout",
     "output_type": "stream",
     "text": [
      "¿Cuantos números desea introducir: 4\n",
      "Número 1\n",
      "4\n",
      "Número 2\n",
      "6\n",
      "Número 3\n",
      "7\n",
      "Número 4\n",
      "3\n",
      "La media es 5.0\n"
     ]
    }
   ],
   "source": [
    "# Completa el ejercicio aquí\n",
    "cantidad_numeros = int(input(\"¿Cuantos números desea introducir?: \"))\n",
    "suma = 0\n",
    "for n in range(cantidad_numeros):\n",
    "    print(\"Número\",n+1)\n",
    "    suma += int(input())\n",
    "media = suma / cantidad_numeros\n",
    "print(\"La media es\", media)    "
   ]
  },
  {
   "cell_type": "markdown",
   "metadata": {},
   "source": [
    "**5) Realiza un programa que pida al usuario un número entero del 0 al 9, y que mientras el número no sea correcto se repita el proceso. Luego debe comprobar si el número se encuentra en la lista de números y notificarlo:**\n",
    "\n",
    "*Consejo: La sintaxis \"valor in lista\" permite comprobar fácilmente si un valor se encuentra en una lista (devuelve True o False)*"
   ]
  },
  {
   "cell_type": "code",
   "execution_count": 2,
   "metadata": {},
   "outputs": [
    {
     "name": "stdout",
     "output_type": "stream",
     "text": [
      "Introduzca un número entre el 0 y 9: -1\n",
      "Error el número tiene que estar 0 y 9 ambos incluidos: 10\n",
      "Error el número tiene que estar 0 y 9 ambos incluidos: 11\n",
      "Error el número tiene que estar 0 y 9 ambos incluidos: 0\n",
      "0 no está en la lista\n"
     ]
    }
   ],
   "source": [
    "# Completa el ejercicio aquí\n",
    "numeros = [1, 3, 6, 9]\n",
    "num = int(input(\"Introduzca un número entre el 0 y 9: \"))\n",
    "\n",
    "while num < 0 or num > 9:\n",
    "    num = int(input(\"Error el número tiene que estar 0 y 9 ambos incluidos: \"))\n",
    "    \n",
    "if num in numeros:\n",
    "    print(num,\"esta en la lista\")\n",
    "else:\n",
    "    print(num,\"no está en la lista\")"
   ]
  },
  {
   "cell_type": "markdown",
   "metadata": {},
   "source": [
    "**6) Utilizando la función range() y la conversión a listas genera las siguientes listas dinámicamente:**\n",
    "* Todos los números del 0 al 10 [0, 1, 2, ..., 10]\n",
    "* Todos los números del -10 al 0 [-10, -9, -8, ..., 0]\n",
    "* Todos los números pares del 0 al 20 [0, 2, 4, ..., 20]\n",
    "* Todos los números impares entre -20 y 0 [-19, -17, -15, ..., -1]\n",
    "* Todos los números múltiples de 5 del 0 al 50 [0, 5, 10, ..., 50]\n",
    "\n",
    "*Pista: Utiliza el tercer parámetro de la función range(inicio, fin, salto).*"
   ]
  },
  {
   "cell_type": "code",
   "execution_count": 54,
   "metadata": {},
   "outputs": [
    {
     "name": "stdout",
     "output_type": "stream",
     "text": [
      "[0, 1, 2, 3, 4, 5, 6, 7, 8, 9, 10]\n",
      "[-10, -9, -8, -7, -6, -5, -4, -3, -2, -1, 0]\n",
      "[0, 2, 4, 6, 8, 10, 12, 14, 16, 18, 20]\n",
      "[-19, -17, -15, -13, -11, -9, -7, -5, -3, -1]\n",
      "[0, 5, 10, 15, 20, 25, 30, 35, 40, 45, 50]\n"
     ]
    }
   ],
   "source": [
    "# Completa el ejercicio\n",
    "lista_1 = list(range(0,11))\n",
    "lista_2 = list(range(-10,1))\n",
    "lista_3 = list(range(0,21,2))\n",
    "lista_4 = list(range(-19,1,2))\n",
    "lista_5 = list(range(0,51,5))\n",
    "print(lista_1)\n",
    "print(lista_2)\n",
    "print(lista_3)\n",
    "print(lista_4)\n",
    "print(lista_5)"
   ]
  },
  {
   "cell_type": "markdown",
   "metadata": {},
   "source": [
    "**7) Dadas dos listas, debes generar una tercera con todos los elementos que se repitan en ellas, pero no debe repetise ningún elemento en la nueva lista:**"
   ]
  },
  {
   "cell_type": "code",
   "execution_count": 65,
   "metadata": {},
   "outputs": [
    {
     "name": "stdout",
     "output_type": "stream",
     "text": [
      "['h', 'o', 'l', 'a', ' ', 'u', 'n']\n"
     ]
    }
   ],
   "source": [
    "# Completa el ejercicio aquí\n",
    "lista_1 = [\"h\",'o','l','a',' ', 'm','u','n','d','o']\n",
    "lista_2 = [\"h\",'o','l','a',' ', 'l','u','n','a']\n",
    "\n",
    "lista = []\n",
    "\n",
    "for elemento in lista_1:\n",
    "    if elemento in lista_2 and elemento not in lista:\n",
    "        lista.append(elemento)\n",
    "    \n",
    "print(lista)"
   ]
  },
  {
   "cell_type": "code",
   "execution_count": null,
   "metadata": {},
   "outputs": [],
   "source": []
  }
 ],
 "metadata": {
  "anaconda-cloud": {},
  "kernelspec": {
   "display_name": "Python 3",
   "language": "python",
   "name": "python3"
  },
  "language_info": {
   "codemirror_mode": {
    "name": "ipython",
    "version": 3
   },
   "file_extension": ".py",
   "mimetype": "text/x-python",
   "name": "python",
   "nbconvert_exporter": "python",
   "pygments_lexer": "ipython3",
   "version": "3.7.4"
  }
 },
 "nbformat": 4,
 "nbformat_minor": 1
}
